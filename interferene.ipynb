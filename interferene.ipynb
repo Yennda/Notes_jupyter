{
 "cells": [
  {
   "cell_type": "code",
   "execution_count": 1,
   "metadata": {},
   "outputs": [],
   "source": [
    "import math as m\n",
    "import numpy as np"
   ]
  },
  {
   "cell_type": "code",
   "execution_count": 2,
   "metadata": {},
   "outputs": [],
   "source": [
    "a = 35\n",
    "b = 105\n",
    "lm = 633\n",
    "lm0 = 325"
   ]
  },
  {
   "cell_type": "code",
   "execution_count": 3,
   "metadata": {},
   "outputs": [],
   "source": [
    "theta = m.atan(a/b)\n",
    "Lm = lm/2/m.sin(theta)"
   ]
  },
  {
   "cell_type": "code",
   "execution_count": 4,
   "metadata": {},
   "outputs": [
    {
     "name": "stdout",
     "output_type": "stream",
     "text": [
      "1000.860879443292\n"
     ]
    }
   ],
   "source": [
    "print(Lm)"
   ]
  },
  {
   "cell_type": "code",
   "execution_count": 5,
   "metadata": {},
   "outputs": [
    {
     "name": "stdout",
     "output_type": "stream",
     "text": [
      "0.3925163649806002\n"
     ]
    }
   ],
   "source": [
    "Lm = 46.2e3\n",
    "theta0 = m.asin(lm/2/Lm)\n",
    "print(theta0/m.pi*180)"
   ]
  },
  {
   "cell_type": "raw",
   "metadata": {},
   "source": [
    "    a\n",
    " ---------- O\n",
    "|            \\\n",
    "| b           \\ d          \n",
    "o              \\\n",
    "                \\\n",
    "                 []\n",
    "               \n",
    "                "
   ]
  },
  {
   "cell_type": "code",
   "execution_count": 7,
   "metadata": {},
   "outputs": [
    {
     "name": "stdout",
     "output_type": "stream",
     "text": [
      "67.75097634278764\n"
     ]
    }
   ],
   "source": [
    "a = 22\n",
    "b = 9\n",
    "d = 1050\n",
    "c = (a**2 + b**2)**0.5\n",
    "\n",
    "print(90 - m.atan(b/a)/m.pi*180)"
   ]
  },
  {
   "cell_type": "code",
   "execution_count": 10,
   "metadata": {},
   "outputs": [
    {
     "name": "stdout",
     "output_type": "stream",
     "text": [
      "0.7092313859442498\n",
      "Lambda = 25.569338419832178\n"
     ]
    }
   ],
   "source": [
    "c = 26\n",
    "\n",
    "theta = m.atan(c/d)/2\n",
    "print(theta/m.pi*180)\n",
    "Lm = lm/2/m.sin(theta)\n",
    "print('Lambda = {}'.format(Lm/1000))"
   ]
  },
  {
   "cell_type": "code",
   "execution_count": null,
   "metadata": {},
   "outputs": [],
   "source": []
  },
  {
   "cell_type": "code",
   "execution_count": null,
   "metadata": {},
   "outputs": [],
   "source": []
  }
 ],
 "metadata": {
  "kernelspec": {
   "display_name": "Python 3",
   "language": "python",
   "name": "python3"
  },
  "language_info": {
   "codemirror_mode": {
    "name": "ipython",
    "version": 3
   },
   "file_extension": ".py",
   "mimetype": "text/x-python",
   "name": "python",
   "nbconvert_exporter": "python",
   "pygments_lexer": "ipython3",
   "version": "3.8.5"
  }
 },
 "nbformat": 4,
 "nbformat_minor": 4
}
