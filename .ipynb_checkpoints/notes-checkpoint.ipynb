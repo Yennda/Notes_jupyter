{
 "cells": [
  {
   "cell_type": "code",
   "execution_count": 1,
   "metadata": {},
   "outputs": [],
   "source": [
    "import scipy.constants as c\n",
    "import numpy as np\n",
    "import math as m"
   ]
  },
  {
   "cell_type": "code",
   "execution_count": 2,
   "metadata": {},
   "outputs": [
    {
     "data": {
      "text/plain": [
       "'precision of the normal incidence using pinhole for alignment '"
      ]
     },
     "execution_count": 2,
     "metadata": {},
     "output_type": "execute_result"
    }
   ],
   "source": [
    "\"precision of the normal incidence using pinhole for alignment \""
   ]
  },
  {
   "cell_type": "code",
   "execution_count": 3,
   "metadata": {},
   "outputs": [
    {
     "data": {
      "text/plain": [
       "0.0480131918370822"
      ]
     },
     "execution_count": 3,
     "metadata": {},
     "output_type": "execute_result"
    }
   ],
   "source": [
    "d = 1\n",
    "l = 358\n",
    "m.atan(d/2/l)/m.pi*180/100*60\n"
   ]
  },
  {
   "cell_type": "code",
   "execution_count": 4,
   "metadata": {},
   "outputs": [
    {
     "data": {
      "text/plain": [
       "48.06"
      ]
     },
     "execution_count": 4,
     "metadata": {},
     "output_type": "execute_result"
    }
   ],
   "source": [
    "0.801*60\n"
   ]
  },
  {
   "cell_type": "code",
   "execution_count": 5,
   "metadata": {},
   "outputs": [
    {
     "data": {
      "text/plain": [
       "'LDLS, plasma source'"
      ]
     },
     "execution_count": 5,
     "metadata": {},
     "output_type": "execute_result"
    }
   ],
   "source": [
    "\"LDLS, plasma source\""
   ]
  },
  {
   "cell_type": "code",
   "execution_count": 19,
   "metadata": {},
   "outputs": [],
   "source": [
    "def spd(radiance):\n",
    "    #output in microwatts\n",
    "    area = 0.1**2\n",
    "    return radiance*area*4*m.pi*1000"
   ]
  },
  {
   "cell_type": "code",
   "execution_count": 20,
   "metadata": {},
   "outputs": [
    {
     "name": "stdout",
     "output_type": "stream",
     "text": [
      "753.9822368615505\n",
      "3769.911184307752\n"
     ]
    }
   ],
   "source": [
    "print(spd(6))\n",
    "print(spd(30))"
   ]
  },
  {
   "cell_type": "code",
   "execution_count": 23,
   "metadata": {
    "scrolled": true
   },
   "outputs": [
    {
     "data": {
      "text/plain": [
       "166.66666666666666"
      ]
     },
     "execution_count": 23,
     "metadata": {},
     "output_type": "execute_result"
    }
   ],
   "source": [
    "1000/6\n"
   ]
  },
  {
   "cell_type": "code",
   "execution_count": 27,
   "metadata": {
    "scrolled": true
   },
   "outputs": [
    {
     "data": {
      "text/plain": [
       "44.44444444444444"
      ]
     },
     "execution_count": 27,
     "metadata": {},
     "output_type": "execute_result"
    }
   ],
   "source": [
    "40/900*1000"
   ]
  },
  {
   "cell_type": "code",
   "execution_count": 4,
   "metadata": {},
   "outputs": [
    {
     "data": {
      "text/plain": [
       "3.015712455888415"
      ]
     },
     "execution_count": 4,
     "metadata": {},
     "output_type": "execute_result"
    }
   ],
   "source": [
    "55/360*2*m.pi**2"
   ]
  },
  {
   "cell_type": "code",
   "execution_count": 6,
   "metadata": {},
   "outputs": [
    {
     "data": {
      "text/plain": [
       "4.1887902047863905"
      ]
     },
     "execution_count": 6,
     "metadata": {},
     "output_type": "execute_result"
    }
   ],
   "source": [
    "1/(3/4/m.pi)"
   ]
  },
  {
   "cell_type": "code",
   "execution_count": 8,
   "metadata": {},
   "outputs": [
    {
     "data": {
      "text/plain": [
       "179.04931097838227"
      ]
     },
     "execution_count": 8,
     "metadata": {},
     "output_type": "execute_result"
    }
   ],
   "source": [
    "750*(3/4/m.pi)"
   ]
  },
  {
   "cell_type": "code",
   "execution_count": 9,
   "metadata": {},
   "outputs": [
    {
     "data": {
      "text/plain": [
       "907.1831756238034"
      ]
     },
     "execution_count": 9,
     "metadata": {},
     "output_type": "execute_result"
    }
   ],
   "source": [
    "3800*(3/4/m.pi)"
   ]
  },
  {
   "cell_type": "markdown",
   "metadata": {},
   "source": [
    "# BASLER aca1920-155um"
   ]
  },
  {
   "cell_type": "code",
   "execution_count": 39,
   "metadata": {},
   "outputs": [
    {
     "data": {
      "text/plain": [
       "73.90007634236835"
      ]
     },
     "execution_count": 39,
     "metadata": {},
     "output_type": "execute_result"
    }
   ],
   "source": [
    "m.log10(32.7e3/6.6)*10*2"
   ]
  },
  {
   "cell_type": "code",
   "execution_count": 41,
   "metadata": {},
   "outputs": [
    {
     "data": {
      "text/plain": [
       "1173.664410625689"
      ]
     },
     "execution_count": 41,
     "metadata": {},
     "output_type": "execute_result"
    }
   ],
   "source": [
    "10**(45/20)*6.6"
   ]
  },
  {
   "cell_type": "markdown",
   "metadata": {},
   "source": [
    "# Surface density of NPs in SEM\n",
    "\n",
    "results are per 100 $\\mu m^2$"
   ]
  },
  {
   "cell_type": "code",
   "execution_count": 2,
   "metadata": {},
   "outputs": [
    {
     "name": "stdout",
     "output_type": "stream",
     "text": [
      "4.244721256598429\n",
      "47.26456339359565\n",
      "144.6584667749671\n",
      "7.729393918899333\n"
     ]
    }
   ],
   "source": [
    "print(211/(57.6*86.3)*100)\n",
    "print(138/(13.95*20.93)*100)\n",
    "print(187/(9.3*13.9)*100)\n",
    "print(32/(16.6*24.94)*100)"
   ]
  },
  {
   "cell_type": "code",
   "execution_count": 3,
   "metadata": {},
   "outputs": [],
   "source": [
    "# channel 1, NP80\n",
    "\n",
    "count = 97\n",
    "time = 60\n",
    "area = 400*273*2.93**2\n",
    "density = count/area*100\n",
    "rate = density/time\n",
    "\n",
    "sem_den = 211/(57.6*86.3)*100\n",
    "spri_den = rate*20 + rate*60 + rate*20*10*60\n"
   ]
  },
  {
   "cell_type": "code",
   "execution_count": 4,
   "metadata": {},
   "outputs": [
    {
     "name": "stdout",
     "output_type": "stream",
     "text": [
      "2.083193151231218\n",
      "49.1 %\n"
     ]
    }
   ],
   "source": [
    "print(spri_den)\n",
    "print('{:.1f} %'.format(spri_den/sem_den*100))"
   ]
  },
  {
   "cell_type": "code",
   "execution_count": 5,
   "metadata": {},
   "outputs": [],
   "source": [
    "# channel 4, NP60\n",
    "\n",
    "count = 153\n",
    "time = 60\n",
    "area = 400*273*2.93**2\n",
    "density = count/area*100\n",
    "rate = density/time\n",
    "\n",
    "sem_den = 32/(16.6*24.94)*100\n",
    "spri_den = rate*60 + rate*20*10*60\n"
   ]
  },
  {
   "cell_type": "code",
   "execution_count": 6,
   "metadata": {},
   "outputs": [
    {
     "name": "stdout",
     "output_type": "stream",
     "text": [
      "3.2804211944330053\n",
      "42.4 %\n"
     ]
    }
   ],
   "source": [
    "print(spri_den)\n",
    "print('{:.1f} %'.format(spri_den/sem_den*100))"
   ]
  },
  {
   "cell_type": "code",
   "execution_count": 11,
   "metadata": {},
   "outputs": [],
   "source": [
    "# channel 2, NP40\n",
    "\n",
    "count = 131\n",
    "time = 60\n",
    "area = 400*273*2.93**2\n",
    "density = count/area*100\n",
    "rate = density/time\n",
    "\n",
    "sem_den = 138/(13.95*20.93)*100\n",
    "spri_den = rate*60 + rate*20*10*60\n"
   ]
  },
  {
   "cell_type": "code",
   "execution_count": 12,
   "metadata": {},
   "outputs": [
    {
     "name": "stdout",
     "output_type": "stream",
     "text": [
      "2.8087266435995017\n",
      "5.9 %\n",
      "8.4 %\n"
     ]
    }
   ],
   "source": [
    "print(spri_den)\n",
    "print('{:.1f} %'.format(spri_den/sem_den*100))\n",
    "print('{:.1f} %'.format(11/count*100))"
   ]
  },
  {
   "cell_type": "code",
   "execution_count": 13,
   "metadata": {},
   "outputs": [],
   "source": [
    "# channel 3, NP30\n",
    "\n",
    "count = 91\n",
    "time = 60\n",
    "area = 400*273*2.93**2\n",
    "density = count/area*100\n",
    "rate = density/time\n",
    "\n",
    "sem_den = 187/(9.3*13.9)*100\n",
    "spri_den = rate*60 + rate*20*10*60\n"
   ]
  },
  {
   "cell_type": "code",
   "execution_count": 14,
   "metadata": {},
   "outputs": [
    {
     "name": "stdout",
     "output_type": "stream",
     "text": [
      "1.9511001875385852\n",
      "1.3 %\n",
      "6.6 %\n"
     ]
    }
   ],
   "source": [
    "print(spri_den)\n",
    "print('{:.1f} %'.format(spri_den/sem_den*100))\n",
    "print('{:.1f} %'.format(6/count*100))"
   ]
  },
  {
   "cell_type": "markdown",
   "metadata": {},
   "source": [
    "## Different coupling and decoupling"
   ]
  },
  {
   "cell_type": "code",
   "execution_count": 10,
   "metadata": {},
   "outputs": [],
   "source": [
    "LM = 527.5e-9\n",
    "K = m.pi*2/LM\n",
    "lm = 750e-9\n",
    "k0 = m.pi*2/lm\n",
    "n=1.50 # S1818"
   ]
  },
  {
   "cell_type": "code",
   "execution_count": 11,
   "metadata": {},
   "outputs": [
    {
     "data": {
      "text/plain": [
       "71.41777189068347"
      ]
     },
     "execution_count": 11,
     "metadata": {},
     "output_type": "execute_result"
    }
   ],
   "source": [
    "m.asin(K/n/k0)/m.pi*180"
   ]
  },
  {
   "cell_type": "code",
   "execution_count": 9,
   "metadata": {},
   "outputs": [
    {
     "data": {
      "text/plain": [
       "59.0999565329703"
      ]
     },
     "execution_count": 9,
     "metadata": {},
     "output_type": "execute_result"
    }
   ],
   "source": [
    "m.asin(1.33/1.55)/m.pi*180"
   ]
  },
  {
   "cell_type": "code",
   "execution_count": 53,
   "metadata": {},
   "outputs": [],
   "source": [
    "def read_file_info(path):\n",
    "    with open(path +'.tsv') as f:\n",
    "        next(f)\n",
    "        lines = f.readlines()        \n",
    "    t0, width, height, __, ets, avg, ___ = lines[0].split('\\t')\n",
    "    t2, *_ = lines[1].split('\\t')\n",
    "    \n",
    "    return int(width), int(height), (int(t2) - int(t0))/1e9, int(avg), int(len(lines))"
   ]
  },
  {
   "cell_type": "code",
   "execution_count": 54,
   "metadata": {},
   "outputs": [],
   "source": [
    "path = r'C:\\SPRUP_data_Jenda\\2020_09_25_Jenda_prism_grating\\20_10_07_L3\\raw_01_02_1'.replace('\\\\', '/')"
   ]
  },
  {
   "cell_type": "code",
   "execution_count": 55,
   "metadata": {},
   "outputs": [
    {
     "data": {
      "text/plain": [
       "(1510, 265, 0.001310157, 10, 353)"
      ]
     },
     "execution_count": 55,
     "metadata": {},
     "output_type": "execute_result"
    }
   ],
   "source": [
    "read_file_info(path)"
   ]
  },
  {
   "cell_type": "code",
   "execution_count": null,
   "metadata": {},
   "outputs": [],
   "source": []
  }
 ],
 "metadata": {
  "kernelspec": {
   "display_name": "Python 3",
   "language": "python",
   "name": "python3"
  },
  "language_info": {
   "codemirror_mode": {
    "name": "ipython",
    "version": 3
   },
   "file_extension": ".py",
   "mimetype": "text/x-python",
   "name": "python",
   "nbconvert_exporter": "python",
   "pygments_lexer": "ipython3",
   "version": "3.7.9"
  }
 },
 "nbformat": 4,
 "nbformat_minor": 2
}
