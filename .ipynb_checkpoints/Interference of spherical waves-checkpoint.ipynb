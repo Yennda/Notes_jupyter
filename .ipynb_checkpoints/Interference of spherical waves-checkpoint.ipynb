{
 "cells": [
  {
   "cell_type": "code",
   "execution_count": 1,
   "metadata": {},
   "outputs": [],
   "source": [
    "import math as m\n",
    "import numpy as np"
   ]
  },
  {
   "cell_type": "code",
   "execution_count": 5,
   "metadata": {},
   "outputs": [],
   "source": [
    "R = 1000\n",
    "theta = 45/180*m.pi\n",
    "lm = 325e-9\n",
    "k = 2*m.pi/lm"
   ]
  },
  {
   "cell_type": "code",
   "execution_count": 8,
   "metadata": {},
   "outputs": [],
   "source": [
    "xx = 20\n",
    "a = m.sin(theta)*xx\n",
    "b = R-m.cos(theta)*xx\n",
    "gamma = m.atan(a/b)\n",
    "beta = gamma + theta\n",
    "\n",
    "aa = m.cos(theta)**xx\n",
    "bb = R + m.sin(theta)**xx\n",
    "gammaa = m.atan(aa/bb)\n",
    "betaa = m.pi/2 -gamma - theta\n",
    "\n",
    "delta = 180-(beta+betaa)\n",
    "K = 2*k*m.sin(delta/2)\n",
    "Lm = 2*m.pi/K"
   ]
  },
  {
   "cell_type": "code",
   "execution_count": 18,
   "metadata": {},
   "outputs": [
    {
     "name": "stdout",
     "output_type": "stream",
     "text": [
      "171.2 nm\n"
     ]
    }
   ],
   "source": [
    "print('{:.1f} nm'.format(Lm*1e9))"
   ]
  },
  {
   "cell_type": "code",
   "execution_count": null,
   "metadata": {},
   "outputs": [],
   "source": []
  }
 ],
 "metadata": {
  "kernelspec": {
   "display_name": "Python 3",
   "language": "python",
   "name": "python3"
  },
  "language_info": {
   "codemirror_mode": {
    "name": "ipython",
    "version": 3
   },
   "file_extension": ".py",
   "mimetype": "text/x-python",
   "name": "python",
   "nbconvert_exporter": "python",
   "pygments_lexer": "ipython3",
   "version": "3.8.5"
  }
 },
 "nbformat": 4,
 "nbformat_minor": 4
}
