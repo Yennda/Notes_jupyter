{
 "cells": [
  {
   "cell_type": "code",
   "execution_count": 1,
   "metadata": {},
   "outputs": [],
   "source": [
    "%matplotlib inline\n",
    "\n",
    "import scipy.optimize\n",
    "from scipy import constants as c\n",
    "import numpy as np\n",
    "import math as m\n",
    "import sys\n",
    "import matplotlib.pyplot as plt\n",
    "\n",
    "sys.path.append('C:/Users/Bukacek/scripts')\n",
    "from LD import LD\n",
    "\n",
    "folder='C:/Users/Bukacek/OneDrive - UFE/thesis/diplomka/long_range/'\n",
    "yellow='#ffb200'\n",
    "red='#DD5544'\n",
    "blue='#0284C0'"
   ]
  },
  {
   "cell_type": "raw",
   "metadata": {},
   "source": [
    "III. (water)\n",
    "======================================\n",
    "I. (gold)\n",
    "======================================\n",
    "II. (glass)"
   ]
  },
  {
   "cell_type": "code",
   "execution_count": 18,
   "metadata": {},
   "outputs": [],
   "source": [
    "def Flong(k1, lm, ep1, ep2, a):\n",
    "    k0=2*m.pi/lm    \n",
    "    return k1**2*(1-m.tanh(k1*a)**2*(ep2/ep1)**2)+k0**2*(ep1-ep2)\n",
    "\n",
    "def Fshort(k1, lm, ep1, ep2, a):\n",
    "    k0=2*m.pi/lm    \n",
    "    return k1**2*(1-m.tanh(k1*a)**(-2)*(ep2/ep1)**2)+k0**2*(ep1-ep2)\n",
    "\n",
    "def long_beta(lm, thickness):\n",
    "    metal = LD(np.array([lm]), material = 'Au',model = 'LD')\n",
    "    ep1=metal.eps(lm)\n",
    "    ep2=1.4**2\n",
    "    k0=2*m.pi/lm    \n",
    "    \n",
    "    FFlong=lambda k1: Flong(k1, lm, ep1, ep2, thickness)\n",
    "\n",
    "    k1 = scipy.optimize.broyden1(FFlong, 3.5e7, f_tol=1, verbose=False, maxiter=98)\n",
    "    beta=(k1**2+k0**2*ep1)**0.5\n",
    "    k2=(beta**2-k0**2*ep2)**0.5\n",
    "\n",
    "    return beta\n",
    "\n",
    "def short_beta(lm, thickness):\n",
    "    metal = LD(np.array([lm]), material = 'Au',model = 'LD')\n",
    "    ep1=metal.eps(lm)\n",
    "    ep2=1.33**2\n",
    "    k0=2*m.pi/lm    \n",
    "    \n",
    "    FFshort=lambda k1: Fshort(k1, lm, ep1, ep2, thickness)\n",
    "\n",
    "    k1 = scipy.optimize.broyden1(FFshort, 3.5e7, f_tol=1, verbose=False, maxiter=98)\n",
    "    beta=(k1**2+k0**2*ep1)**0.5\n",
    "    k2=(beta**2-k0**2*ep2)**0.5\n",
    "\n",
    "    return beta\n",
    "\n",
    "def long_Lambda(lm, thickness):\n",
    "    beta=long_beta(lm, thickness)\n",
    "    return 2*m.pi/np.real(long_beta(lm, a))*1e9\n",
    "\n",
    "def short_Lambda(lm, thickness):\n",
    "    beta=short_beta(lm, thickness)\n",
    "    return 2*m.pi/np.real(short_beta(lm, a))*1e9"
   ]
  },
  {
   "cell_type": "code",
   "execution_count": 19,
   "metadata": {},
   "outputs": [],
   "source": [
    "lm=750e-9\n",
    "a=20e-9\n",
    "\n",
    "k0=2*m.pi/lm\n",
    "ep2=1.34**2"
   ]
  },
  {
   "cell_type": "code",
   "execution_count": 20,
   "metadata": {},
   "outputs": [
    {
     "name": "stdout",
     "output_type": "stream",
     "text": [
      "522.8738967321623\n",
      "494.9921164638247\n"
     ]
    },
    {
     "name": "stderr",
     "output_type": "stream",
     "text": [
      "C:\\Users\\Bukacek\\AppData\\Local\\Continuum\\anaconda3\\lib\\site-packages\\ipykernel_launcher.py:3: ComplexWarning: Casting complex values to real discards the imaginary part\n",
      "  This is separate from the ipykernel package so we can avoid doing imports until\n",
      "C:\\Users\\Bukacek\\AppData\\Local\\Continuum\\anaconda3\\lib\\site-packages\\ipykernel_launcher.py:7: ComplexWarning: Casting complex values to real discards the imaginary part\n",
      "  import sys\n"
     ]
    }
   ],
   "source": [
    "print(long_Lambda(lm, a))\n",
    "\n",
    "print(short_Lambda(lm, a))"
   ]
  },
  {
   "cell_type": "code",
   "execution_count": 21,
   "metadata": {},
   "outputs": [
    {
     "name": "stdout",
     "output_type": "stream",
     "text": [
      "(12016636.031073656+36741.67050346823j)\n"
     ]
    },
    {
     "name": "stderr",
     "output_type": "stream",
     "text": [
      "C:\\Users\\Bukacek\\AppData\\Local\\Continuum\\anaconda3\\lib\\site-packages\\ipykernel_launcher.py:3: ComplexWarning: Casting complex values to real discards the imaginary part\n",
      "  This is separate from the ipykernel package so we can avoid doing imports until\n"
     ]
    }
   ],
   "source": [
    "\n",
    "print(long_beta(lm, a))\n",
    "\n",
    "\n",
    "# print(short_beta(lm, a))"
   ]
  },
  {
   "cell_type": "code",
   "execution_count": null,
   "metadata": {},
   "outputs": [],
   "source": [
    "(11295062.540633384+29889.56576030944j) 1.32\n",
    "(11474744.789409682+31498.706384733643j) 1.34\n",
    "(12016636.031073656+36741.67050346823j) 1.4"
   ]
  },
  {
   "cell_type": "code",
   "execution_count": 8,
   "metadata": {
    "scrolled": true
   },
   "outputs": [
    {
     "name": "stdout",
     "output_type": "stream",
     "text": [
      "z= 0.301 um\n",
      "L= 5.828 um\n"
     ]
    },
    {
     "name": "stderr",
     "output_type": "stream",
     "text": [
      "C:\\Users\\Bukacek\\AppData\\Local\\Continuum\\anaconda3\\lib\\site-packages\\ipykernel_launcher.py:3: ComplexWarning: Casting complex values to real discards the imaginary part\n",
      "  This is separate from the ipykernel package so we can avoid doing imports until\n"
     ]
    }
   ],
   "source": [
    "print('z= {:.3f} um'.format(1/np.real((long_beta(lm, a)**2-k0**2*ep2)**0.5)*1e6))\n",
    "print('L= {:.3f} um'.format(1/(2*long_beta(lm, a).imag)*1e6))"
   ]
  },
  {
   "cell_type": "code",
   "execution_count": 9,
   "metadata": {},
   "outputs": [
    {
     "name": "stderr",
     "output_type": "stream",
     "text": [
      "C:\\Users\\Bukacek\\AppData\\Local\\Continuum\\anaconda3\\lib\\site-packages\\ipykernel_launcher.py:3: ComplexWarning: Casting complex values to real discards the imaginary part\n",
      "  This is separate from the ipykernel package so we can avoid doing imports until\n",
      "C:\\Users\\Bukacek\\AppData\\Local\\Continuum\\anaconda3\\lib\\site-packages\\ipykernel_launcher.py:7: ComplexWarning: Casting complex values to real discards the imaginary part\n",
      "  import sys\n"
     ]
    }
   ],
   "source": [
    "length_long=[]\n",
    "length_short=[]\n",
    "\n",
    "a_list=np.linspace(10e-9, 100e-9,90)\n",
    "lm=600e-9\n",
    "for aa in a_list:\n",
    "\n",
    "    beta=long_beta(lm, aa)\n",
    "    length_long.append(1/(2*beta.imag)*1e6)\n",
    "    \n",
    "    beta=short_beta(lm, aa)\n",
    "    length_short.append(1/(2*beta.imag)*1e6)"
   ]
  },
  {
   "cell_type": "code",
   "execution_count": 10,
   "metadata": {},
   "outputs": [
    {
     "data": {
      "image/png": "[encoded data removed]",
      "text/plain": [
       "<Figure size 432x288 with 1 Axes>"
      ]
     },
     "metadata": {
      "needs_background": "light"
     },
     "output_type": "display_data"
    }
   ],
   "source": [
    "fig = plt.figure()\n",
    "axes = fig.add_axes([0.1, 0.1, 0.8, 0.8])\n",
    "axes.grid(linestyle='--')\n",
    "axes.set_title('Propagation length of IMI SPP; wavelength '+str(int(lm*1e9)))\n",
    "axes.set_xlabel('gold thickness [nm]')\n",
    "axes.set_ylabel('Propagation length [$\\\\mu$m]')\n",
    "# axes.set_yscale('log')\n",
    "\n",
    "name='test_01'\n",
    "axes.plot(a_list*1e9, length_long, color=blue,  linewidth=2, label='long-range')\n",
    "axes.plot(a_list*1e9, length_short, color=red, linewidth=2, label='short-range')\n",
    "\n",
    "# axes.plot(k_air, omega, color=blue, linewidth=2, label='air')\n",
    "# axes.plot(k_grating, omega, color=red, linewidth=2, label='grating')\n",
    "\n",
    "axes.legend(loc=1)\n",
    "fig.savefig(folder + 'propagation-length-{}.png'.format(int(lm*1e9)), dpi=300)"
   ]
  },
  {
   "cell_type": "code",
   "execution_count": 15,
   "metadata": {},
   "outputs": [
    {
     "name": "stderr",
     "output_type": "stream",
     "text": [
      "C:\\Users\\Bukacek\\AppData\\Local\\Continuum\\anaconda3\\lib\\site-packages\\ipykernel_launcher.py:3: ComplexWarning: Casting complex values to real discards the imaginary part\n",
      "  This is separate from the ipykernel package so we can avoid doing imports until\n",
      "C:\\Users\\Bukacek\\AppData\\Local\\Continuum\\anaconda3\\lib\\site-packages\\ipykernel_launcher.py:7: ComplexWarning: Casting complex values to real discards the imaginary part\n",
      "  import sys\n"
     ]
    },
    {
     "data": {
      "text/plain": [
       "<matplotlib.legend.Legend at 0x1ab0065de48>"
      ]
     },
     "execution_count": 15,
     "metadata": {},
     "output_type": "execute_result"
    },
    {
     "data": {
      "image/png": "[encoded data removed]",
      "text/plain": [
       "<Figure size 432x288 with 1 Axes>"
      ]
     },
     "metadata": {
      "needs_background": "light"
     },
     "output_type": "display_data"
    }
   ],
   "source": [
    "lamda = np.linspace(300E-9, 1500E-9,500)\n",
    "omega=2*m.pi*c.c/lamda\n",
    "k_air=omega/c.c*1.29\n",
    "# k_air=omega/c.c*1.51\n",
    "\n",
    "\n",
    "beta_long=[]\n",
    "beta_short=[]\n",
    "\n",
    "thickness=20e-9\n",
    "\n",
    "for l in lamda:\n",
    "    beta_long.append(long_beta(l, thickness))\n",
    "    beta_short.append(short_beta(l, thickness))\n",
    "\n",
    "    \n",
    "\n",
    "\n",
    "ll=407e-9\n",
    "k_grating=[2*m.pi/ll]*len(lamda)\n",
    "\n",
    "\n",
    "\n",
    "fig = plt.figure()\n",
    "axes = fig.add_axes([0.1, 0.1, 0.8, 0.8])\n",
    "axes.grid(linestyle='--')\n",
    "axes.set_title('Angles for prism coupling: thickness = '+str(int(thickness*1e9))+ '')\n",
    "axes.set_xlabel('$\\\\beta$')\n",
    "axes.set_ylabel('$\\\\omega$')\n",
    "# axes.set_yscale('log')\n",
    "\n",
    "name='test_01'\n",
    "axes.plot(np.real(beta_long), omega, color=blue, linewidth=2, label='LRSPP')\n",
    "axes.plot(np.real(beta_short), omega, color=red, linewidth=2, label='SRSPP')\n",
    "\n",
    "\n",
    "axes.plot(k_air, omega, color='black', linewidth=2, linestyle='--', label='air')\n",
    "axes.plot(k_grating, omega, color=yellow, linewidth=2, label='grating')\n",
    "axes.plot([0.5*k for k in k_grating], omega, color=yellow, linewidth=2, label='grating 2nd order')\n",
    "\n",
    "axes.legend(loc=1)\n",
    "# fig.savefig(folder + 'dispersion-{}.png'.format(int(thickness*1e9)), dpi=300)\n"
   ]
  },
  {
   "cell_type": "code",
   "execution_count": null,
   "metadata": {},
   "outputs": [],
   "source": []
  }
 ],
 "metadata": {
  "kernelspec": {
   "display_name": "Python 3",
   "language": "python",
   "name": "python3"
  },
  "language_info": {
   "codemirror_mode": {
    "name": "ipython",
    "version": 3
   },
   "file_extension": ".py",
   "mimetype": "text/x-python",
   "name": "python",
   "nbconvert_exporter": "python",
   "pygments_lexer": "ipython3",
   "version": "3.7.5"
  }
 },
 "nbformat": 4,
 "nbformat_minor": 2
}
