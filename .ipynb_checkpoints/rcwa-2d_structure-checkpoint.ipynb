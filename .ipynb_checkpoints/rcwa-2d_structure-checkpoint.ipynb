{
 "cells": [
  {
   "cell_type": "code",
   "execution_count": 1,
   "metadata": {},
   "outputs": [],
   "source": [
    "%matplotlib inline\n",
    "\n",
    "import math as m\n",
    "import numpy as np\n",
    "\n",
    "import matplotlib\n",
    "import matplotlib.pyplot as plt\n",
    "\n",
    "yellow='#ffb200'\n",
    "red='#DD5544'\n",
    "blue='#0284C0'"
   ]
  },
  {
   "cell_type": "code",
   "execution_count": 2,
   "metadata": {},
   "outputs": [],
   "source": [
    "matplotlib.rc('font', family='serif') \n",
    "matplotlib.rc('font', serif='Palatino Linotype') \n",
    "matplotlib.rc('text', usetex='false') \n",
    "matplotlib.rcParams.update({'font.size': 20})"
   ]
  },
  {
   "cell_type": "code",
   "execution_count": 77,
   "metadata": {},
   "outputs": [],
   "source": [
    "def sphere(R, h, coordinates):\n",
    "    S = np.array([R / 2, R/ 2, h + R / 2])\n",
    "    return np.linalg.norm(coordinates - S) <= R/2"
   ]
  },
  {
   "cell_type": "code",
   "execution_count": 78,
   "metadata": {},
   "outputs": [
    {
     "ename": "TypeError",
     "evalue": "sphere() takes 3 positional arguments but 4 were given",
     "output_type": "error",
     "traceback": [
      "\u001b[1;31m---------------------------------------------------------------------------\u001b[0m",
      "\u001b[1;31mTypeError\u001b[0m                                 Traceback (most recent call last)",
      "\u001b[1;32m<ipython-input-78-a876a003f842>\u001b[0m in \u001b[0;36m<module>\u001b[1;34m\u001b[0m\n\u001b[0;32m      3\u001b[0m \u001b[0ma\u001b[0m \u001b[1;33m=\u001b[0m \u001b[1;36m200\u001b[0m\u001b[1;33m\u001b[0m\u001b[1;33m\u001b[0m\u001b[0m\n\u001b[0;32m      4\u001b[0m \u001b[0mcoor1\u001b[0m \u001b[1;33m=\u001b[0m \u001b[0mnp\u001b[0m\u001b[1;33m.\u001b[0m\u001b[0marray\u001b[0m\u001b[1;33m(\u001b[0m\u001b[1;33m[\u001b[0m\u001b[1;36m500\u001b[0m\u001b[1;33m,\u001b[0m \u001b[1;36m540\u001b[0m\u001b[1;33m,\u001b[0m \u001b[1;33m-\u001b[0m\u001b[1;36m70\u001b[0m\u001b[1;33m]\u001b[0m\u001b[1;33m)\u001b[0m\u001b[1;33m\u001b[0m\u001b[1;33m\u001b[0m\u001b[0m\n\u001b[1;32m----> 5\u001b[1;33m \u001b[0msphere\u001b[0m\u001b[1;33m(\u001b[0m\u001b[0mR\u001b[0m\u001b[1;33m,\u001b[0m \u001b[0mh\u001b[0m\u001b[1;33m,\u001b[0m \u001b[0ma\u001b[0m\u001b[1;33m,\u001b[0m \u001b[0mcoor1\u001b[0m\u001b[1;33m)\u001b[0m\u001b[1;33m\u001b[0m\u001b[1;33m\u001b[0m\u001b[0m\n\u001b[0m",
      "\u001b[1;31mTypeError\u001b[0m: sphere() takes 3 positional arguments but 4 were given"
     ]
    }
   ],
   "source": [
    "R = 80\n",
    "h = 30\n",
    "a = 200\n",
    "coor1 = np.array([500, 540, -70])\n",
    "sphere(R, h, a, coor1)"
   ]
  },
  {
   "cell_type": "code",
   "execution_count": 110,
   "metadata": {},
   "outputs": [],
   "source": [
    "nxy = 8\n",
    "nz = 8"
   ]
  },
  {
   "cell_type": "code",
   "execution_count": 111,
   "metadata": {},
   "outputs": [],
   "source": [
    "geometry = np.empty((nxy + 2, nxy + 2, nz), dtype=bool)"
   ]
  },
  {
   "cell_type": "code",
   "execution_count": 112,
   "metadata": {},
   "outputs": [],
   "source": [
    "for (i, j, k), value in np.ndenumerate(geometry):\n",
    "    coor = np.array([(i - 1) / nxy*R, (j - 1) / nxy*R, k / nz*R + h]) \n",
    "#     print(coor)\n",
    "    geometry[i, j, k] = sphere(R, h, \n",
    "                               coor)"
   ]
  },
  {
   "cell_type": "code",
   "execution_count": 147,
   "metadata": {},
   "outputs": [
    {
     "data": {
      "text/plain": [
       "<matplotlib.image.AxesImage at 0x1bfedb7bc48>"
      ]
     },
     "execution_count": 147,
     "metadata": {},
     "output_type": "execute_result"
    },
    {
     "data": {
      "image/png": "[encoded data removed]",
      "text/plain": [
       "<Figure size 432x288 with 1 Axes>"
      ]
     },
     "metadata": {
      "needs_background": "light"
     },
     "output_type": "display_data"
    }
   ],
   "source": [
    "plt.imshow(geometry[:, :, 1])\n",
    "# plt.imshow(geometry[:, 10, :])\n",
    "# plt.imshow(geometry[10, :, :])"
   ]
  },
  {
   "cell_type": "code",
   "execution_count": 150,
   "metadata": {},
   "outputs": [
    {
     "name": "stdout",
     "output_type": "stream",
     "text": [
      "number_of_layers = 9;\n",
      "\n",
      "l = 1;\n",
      "thickness(1) = h;\n",
      "coordinate_x_1 = [0, a];\n",
      "coordinate_y_1 = [0, a];\n",
      "r_index = {w};\n",
      "\n",
      "\n",
      "\n",
      "l = 2;\n",
      "thickness(2) = 10.0;\n",
      "coordinate_x_2 = [0, 60.0, 64.0, 68.0, 72.0, 76.0, 80.0, 84.0, 88.0, 92.0, 200];\n",
      "coordinate_y_2 = [0, 60.0, 64.0, 68.0, 72.0, 76.0, 80.0, 84.0, 88.0, 92.0, 200];\n",
      "r_index_2 = [w, w, w, w, w, w, w, w, w, w;\n",
      "w, w, w, w, w, w, w, w, w, w;\n",
      "w, w, w, w, w, w, w, w, w, w;\n",
      "w, w, w, w, w, w, w, w, w, w;\n",
      "w, w, w, w, w, w, w, w, w, w;\n",
      "w, w, w, w, w, g, w, w, w, w;\n",
      "w, w, w, w, w, w, w, w, w, w;\n",
      "w, w, w, w, w, w, w, w, w, w;\n",
      "w, w, w, w, w, w, w, w, w, w;\n",
      "w, w, w, w, w, w, w, w, w, w];\n",
      "\n",
      "\n",
      "\n",
      "l = 3;\n",
      "thickness(3) = 10.0;\n",
      "coordinate_x_3 = [0, 60.0, 64.0, 68.0, 72.0, 76.0, 80.0, 84.0, 88.0, 92.0, 200];\n",
      "coordinate_y_3 = [0, 60.0, 64.0, 68.0, 72.0, 76.0, 80.0, 84.0, 88.0, 92.0, 200];\n",
      "r_index_3 = [w, w, w, w, w, w, w, w, w, w;\n",
      "w, w, w, w, w, w, w, w, w, w;\n",
      "w, w, w, w, w, w, w, w, w, w;\n",
      "w, w, w, w, g, g, g, w, w, w;\n",
      "w, w, w, g, g, g, g, g, w, w;\n",
      "w, w, w, g, g, g, g, g, w, w;\n",
      "w, w, w, g, g, g, g, g, w, w;\n",
      "w, w, w, w, g, g, g, w, w, w;\n",
      "w, w, w, w, w, w, w, w, w, w;\n",
      "w, w, w, w, w, w, w, w, w, w];\n",
      "\n",
      "\n",
      "\n",
      "l = 4;\n",
      "thickness(4) = 10.0;\n",
      "coordinate_x_4 = [0, 60.0, 64.0, 68.0, 72.0, 76.0, 80.0, 84.0, 88.0, 92.0, 200];\n",
      "coordinate_y_4 = [0, 60.0, 64.0, 68.0, 72.0, 76.0, 80.0, 84.0, 88.0, 92.0, 200];\n",
      "r_index_4 = [w, w, w, w, w, w, w, w, w, w;\n",
      "w, w, w, w, w, w, w, w, w, w;\n",
      "w, w, w, w, g, g, g, w, w, w;\n",
      "w, w, w, g, g, g, g, g, w, w;\n",
      "w, w, g, g, g, g, g, g, g, w;\n",
      "w, w, g, g, g, g, g, g, g, w;\n",
      "w, w, g, g, g, g, g, g, g, w;\n",
      "w, w, w, g, g, g, g, g, w, w;\n",
      "w, w, w, w, g, g, g, w, w, w;\n",
      "w, w, w, w, w, w, w, w, w, w];\n",
      "\n",
      "\n",
      "\n",
      "l = 5;\n",
      "thickness(5) = 10.0;\n",
      "coordinate_x_5 = [0, 60.0, 64.0, 68.0, 72.0, 76.0, 80.0, 84.0, 88.0, 92.0, 200];\n",
      "coordinate_y_5 = [0, 60.0, 64.0, 68.0, 72.0, 76.0, 80.0, 84.0, 88.0, 92.0, 200];\n",
      "r_index_5 = [w, w, w, w, w, w, w, w, w, w;\n",
      "w, w, w, w, w, w, w, w, w, w;\n",
      "w, w, w, g, g, g, g, g, w, w;\n",
      "w, w, g, g, g, g, g, g, g, w;\n",
      "w, w, g, g, g, g, g, g, g, w;\n",
      "w, w, g, g, g, g, g, g, g, w;\n",
      "w, w, g, g, g, g, g, g, g, w;\n",
      "w, w, g, g, g, g, g, g, g, w;\n",
      "w, w, w, g, g, g, g, g, w, w;\n",
      "w, w, w, w, w, w, w, w, w, w];\n",
      "\n",
      "\n",
      "\n",
      "l = 6;\n",
      "thickness(6) = 10.0;\n",
      "coordinate_x_6 = [0, 60.0, 64.0, 68.0, 72.0, 76.0, 80.0, 84.0, 88.0, 92.0, 200];\n",
      "coordinate_y_6 = [0, 60.0, 64.0, 68.0, 72.0, 76.0, 80.0, 84.0, 88.0, 92.0, 200];\n",
      "r_index_6 = [w, w, w, w, w, w, w, w, w, w;\n",
      "w, w, w, w, w, g, w, w, w, w;\n",
      "w, w, w, g, g, g, g, g, w, w;\n",
      "w, w, g, g, g, g, g, g, g, w;\n",
      "w, w, g, g, g, g, g, g, g, w;\n",
      "w, g, g, g, g, g, g, g, g, g;\n",
      "w, w, g, g, g, g, g, g, g, w;\n",
      "w, w, g, g, g, g, g, g, g, w;\n",
      "w, w, w, g, g, g, g, g, w, w;\n",
      "w, w, w, w, w, g, w, w, w, w];\n",
      "\n",
      "\n",
      "\n",
      "l = 7;\n",
      "thickness(7) = 10.0;\n",
      "coordinate_x_7 = [0, 60.0, 64.0, 68.0, 72.0, 76.0, 80.0, 84.0, 88.0, 92.0, 200];\n",
      "coordinate_y_7 = [0, 60.0, 64.0, 68.0, 72.0, 76.0, 80.0, 84.0, 88.0, 92.0, 200];\n",
      "r_index_7 = [w, w, w, w, w, w, w, w, w, w;\n",
      "w, w, w, w, w, w, w, w, w, w;\n",
      "w, w, w, g, g, g, g, g, w, w;\n",
      "w, w, g, g, g, g, g, g, g, w;\n",
      "w, w, g, g, g, g, g, g, g, w;\n",
      "w, w, g, g, g, g, g, g, g, w;\n",
      "w, w, g, g, g, g, g, g, g, w;\n",
      "w, w, g, g, g, g, g, g, g, w;\n",
      "w, w, w, g, g, g, g, g, w, w;\n",
      "w, w, w, w, w, w, w, w, w, w];\n",
      "\n",
      "\n",
      "\n",
      "l = 8;\n",
      "thickness(8) = 10.0;\n",
      "coordinate_x_8 = [0, 60.0, 64.0, 68.0, 72.0, 76.0, 80.0, 84.0, 88.0, 92.0, 200];\n",
      "coordinate_y_8 = [0, 60.0, 64.0, 68.0, 72.0, 76.0, 80.0, 84.0, 88.0, 92.0, 200];\n",
      "r_index_8 = [w, w, w, w, w, w, w, w, w, w;\n",
      "w, w, w, w, w, w, w, w, w, w;\n",
      "w, w, w, w, g, g, g, w, w, w;\n",
      "w, w, w, g, g, g, g, g, w, w;\n",
      "w, w, g, g, g, g, g, g, g, w;\n",
      "w, w, g, g, g, g, g, g, g, w;\n",
      "w, w, g, g, g, g, g, g, g, w;\n",
      "w, w, w, g, g, g, g, g, w, w;\n",
      "w, w, w, w, g, g, g, w, w, w;\n",
      "w, w, w, w, w, w, w, w, w, w];\n",
      "\n",
      "\n",
      "\n",
      "l = 9;\n",
      "thickness(9) = 10.0;\n",
      "coordinate_x_9 = [0, 60.0, 64.0, 68.0, 72.0, 76.0, 80.0, 84.0, 88.0, 92.0, 200];\n",
      "coordinate_y_9 = [0, 60.0, 64.0, 68.0, 72.0, 76.0, 80.0, 84.0, 88.0, 92.0, 200];\n",
      "r_index_9 = [w, w, w, w, w, w, w, w, w, w;\n",
      "w, w, w, w, w, w, w, w, w, w;\n",
      "w, w, w, w, w, w, w, w, w, w;\n",
      "w, w, w, w, g, g, g, w, w, w;\n",
      "w, w, w, g, g, g, g, g, w, w;\n",
      "w, w, w, g, g, g, g, g, w, w;\n",
      "w, w, w, g, g, g, g, g, w, w;\n",
      "w, w, w, w, g, g, g, w, w, w;\n",
      "w, w, w, w, w, w, w, w, w, w;\n",
      "w, w, w, w, w, w, w, w, w, w];\n",
      "\n",
      "\n",
      "\n"
     ]
    }
   ],
   "source": [
    "print('number_of_layers = {};\\n'.format(nz + 1))\n",
    "print('l = 1;')\n",
    "print('thickness(1) = h;')\n",
    "print('coordinate_x_1 = [0, a];')\n",
    "print('coordinate_y_1 = [0, a];')\n",
    "\n",
    "print('r_index = {w};')\n",
    "print('\\n\\n')\n",
    "\n",
    "for i in range(nz):\n",
    "#     coordinate_sphere = [a/n*j for j in range(nz + 1)]\n",
    "    coordinate_sphere = [(a-R)/2 + R/n*j for j in range(nz + 1)]\n",
    "    coordinate_x = [0] + coordinate_sphere + [a]\n",
    "    \n",
    "    r_index = str(geometry[:, :, i])   \n",
    "    r_index = r_index.replace(' ', ', ')  \n",
    "    r_index = r_index.replace(']\\n, [', ';\\n')\n",
    "    r_index = r_index.replace('False', 'w')\n",
    "    r_index = r_index.replace('True', 'g')\n",
    "    r_index = r_index.replace('[[', '[')\n",
    "    r_index = r_index.replace(']]', ']')\n",
    "    r_index = r_index.replace(' , ', ' ')\n",
    "    \n",
    "\n",
    "    print('l = {};'.format(i + 2))\n",
    "    print('thickness({}) = {};'.format(i +2, R/nz))\n",
    "    print('coordinate_x_{} = {};'.format(i + 2, coordinate_x))\n",
    "    print('coordinate_y_{} = {};'.format(i + 2, coordinate_x))\n",
    "    print('r_index_{} = {};'.format(i + 2, r_index))\n",
    "    print('\\n\\n')\n",
    "    \n",
    "#     break\n",
    "    "
   ]
  },
  {
   "cell_type": "code",
   "execution_count": null,
   "metadata": {},
   "outputs": [],
   "source": []
  }
 ],
 "metadata": {
  "kernelspec": {
   "display_name": "Python 3",
   "language": "python",
   "name": "python3"
  },
  "language_info": {
   "codemirror_mode": {
    "name": "ipython",
    "version": 3
   },
   "file_extension": ".py",
   "mimetype": "text/x-python",
   "name": "python",
   "nbconvert_exporter": "python",
   "pygments_lexer": "ipython3",
   "version": "3.7.9"
  }
 },
 "nbformat": 4,
 "nbformat_minor": 2
}
