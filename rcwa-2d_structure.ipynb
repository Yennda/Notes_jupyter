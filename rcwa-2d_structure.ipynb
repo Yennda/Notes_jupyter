{
 "cells": [
  {
   "cell_type": "code",
   "execution_count": 1,
   "metadata": {},
   "outputs": [],
   "source": [
    "%matplotlib inline\n",
    "\n",
    "import math as m\n",
    "import numpy as np\n",
    "\n",
    "import matplotlib\n",
    "import matplotlib.pyplot as plt\n",
    "\n",
    "\n",
    "yellow='#ffb200'\n",
    "red='#DD5544'\n",
    "blue='#0284C0'"
   ]
  },
  {
   "cell_type": "code",
   "execution_count": 2,
   "metadata": {},
   "outputs": [],
   "source": [
    "matplotlib.rc('font', family='serif') \n",
    "matplotlib.rc('font', serif='Palatino Linotype') \n",
    "matplotlib.rc('text', usetex='false') \n",
    "matplotlib.rcParams.update({'font.size': 20})"
   ]
  },
  {
   "cell_type": "raw",
   "metadata": {},
   "source": [
    "924 (nx = 10) vs 186 (cube)\n",
    "\n",
    "101 s 25\n",
    "34 s 10\n",
    "2 s cube\n"
   ]
  },
  {
   "cell_type": "code",
   "execution_count": 3,
   "metadata": {},
   "outputs": [],
   "source": [
    "def sphere(R, h, coordinates):\n",
    "    S = np.array([R / 2, R/ 2, h + R / 2])\n",
    "    return np.linalg.norm(coordinates - S) <= R/2"
   ]
  },
  {
   "cell_type": "code",
   "execution_count": 21,
   "metadata": {},
   "outputs": [],
   "source": [
    "R = 40e-3\n",
    "h = 20e-3\n",
    "a = 20\n",
    "b = 10\n",
    "dx = 5\n",
    "nxy = 100\n",
    "nz = nxy"
   ]
  },
  {
   "cell_type": "code",
   "execution_count": null,
   "metadata": {},
   "outputs": [],
   "source": [
    "geometry = np.empty((nxy + 3, nxy + 3, nz), dtype=bool)\n",
    "for (i, j, k), value in np.ndenumerate(geometry):\n",
    "    coor = np.array([(i - 1) / nxy*R, (j - 1) / nxy*R, k / nz*R + h]) \n",
    "    geometry[i, j, k] = sphere(R, h, \n",
    "                               coor)"
   ]
  },
  {
   "cell_type": "code",
   "execution_count": null,
   "metadata": {
    "scrolled": true
   },
   "outputs": [],
   "source": [
    "print('number_of_layers = {};\\n'.format(nz + 2))\n",
    "print('a = {};'.format(a))\n",
    "print('b = {};'.format(b))\n",
    "print('dx = {};'.format(dx))\n",
    "\n",
    "print('h = {};'.format(h))\n",
    "print('r = {};'.format(R))\n",
    "print('nxy = {};'.format(nxy))\n",
    "print('w = 1.33;')\n",
    "\n",
    "print('\\n')\n",
    "\n",
    "\n",
    "print('l = 1;')\n",
    "print('thickness(l) = 0.05;')\n",
    "print('coordinate_x_1 = [0, a];')\n",
    "print('coordinate_y_1 = [0, b];')\n",
    "\n",
    "print('r_index_1 = [gold];')\n",
    "print('\\n\\n')\n",
    "\n",
    "print('l = 2;')\n",
    "print('thickness(l) = h;')\n",
    "print('coordinate_x_2 = [0, a];')\n",
    "print('coordinate_y_2 = [0, b];')\n",
    "\n",
    "print('r_index_2 = [w];')\n",
    "print('\\n\\n')\n",
    "\n",
    "for i in range(nz):\n",
    "#     coordinate_sphere = [a/n*j for j in range(nz + 1)]\n",
    "#     coordinate_sphere = [(a-R)/2 + R/nxy*j for j in range(nxy + 2)]\n",
    "#     coordinate_x = [0] + coordinate_sphere + [a]\n",
    "\n",
    "    coordinate_sphere_x = ['(a-r)/2 + r/nxy*{} + dx'.format(j) for j in range(nxy + 2)]\n",
    "    coordinate_sphere_y = ['(b-r)/2 + r/nxy*{}'.format(j) for j in range(nxy + 2)]\n",
    "    \n",
    "    coordinate_x = [0] + coordinate_sphere_x + ['a']\n",
    "    coordinate_x = str(coordinate_x).replace(\"'\", \"\")\n",
    "\n",
    "    coordinate_y = [0] + coordinate_sphere_y + ['b']\n",
    "    coordinate_y = str(coordinate_y).replace(\"'\", \"\")\n",
    "    \n",
    "    r_index = str(geometry[:, :, i])  \n",
    "    \n",
    "    r_index = r_index.replace('\\n  ', ' ')  \n",
    "    \n",
    "    \n",
    "    r_index = r_index.replace(' ', ', ')  \n",
    "    r_index = r_index.replace(']\\n, [', ';\\n')\n",
    "    r_index = r_index.replace('False', 'w')\n",
    "    r_index = r_index.replace('True', 'gold')\n",
    "    r_index = r_index.replace('[[', '[')\n",
    "    r_index = r_index.replace(']]', ']')\n",
    "    r_index = r_index.replace(' , ', ' ')\n",
    "    \n",
    "\n",
    "    print('l = {};'.format(i + 3))\n",
    "    print('thickness(l) = {:.2f};'.format(R/nz))\n",
    "    print('coordinate_x_{} = {};'.format(i + 3, coordinate_x))\n",
    "    print('coordinate_y_{} = {};'.format(i + 3, coordinate_y))\n",
    "    print('r_index_{} = {};'.format(i + 3, r_index))\n",
    "    \n",
    "    \n",
    "    print('\\n\\n')\n",
    "    \n",
    "#     break\n",
    "    "
   ]
  },
  {
   "cell_type": "code",
   "execution_count": null,
   "metadata": {},
   "outputs": [],
   "source": [
    "plt.set_cmap(\"Blues\")\n",
    "plt.imshow(geometry[:, :, nz//2])\n",
    "# plt.imshow(geometry[:, 10, :])\n",
    "# plt.imshow(geometry[10, :, :])\n",
    "plt.savefig('images/np_R{}_H{}_N{}.png'.format(int(R*1e3), int(h*1e3), nxy))"
   ]
  },
  {
   "cell_type": "code",
   "execution_count": 31,
   "metadata": {},
   "outputs": [
    {
     "data": {
      "text/plain": [
       "0.25"
      ]
     },
     "execution_count": 31,
     "metadata": {},
     "output_type": "execute_result"
    }
   ],
   "source": [
    "3/0.02*0.2*30/3600\n"
   ]
  },
  {
   "cell_type": "code",
   "execution_count": null,
   "metadata": {},
   "outputs": [],
   "source": []
  }
 ],
 "metadata": {
  "kernelspec": {
   "display_name": "Python 3",
   "language": "python",
   "name": "python3"
  },
  "language_info": {
   "codemirror_mode": {
    "name": "ipython",
    "version": 3
   },
   "file_extension": ".py",
   "mimetype": "text/x-python",
   "name": "python",
   "nbconvert_exporter": "python",
   "pygments_lexer": "ipython3",
   "version": "3.8.5"
  }
 },
 "nbformat": 4,
 "nbformat_minor": 2
}
