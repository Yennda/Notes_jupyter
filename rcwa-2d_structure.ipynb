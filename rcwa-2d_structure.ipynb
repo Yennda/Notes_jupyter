{
 "cells": [
  {
   "cell_type": "code",
   "execution_count": 1,
   "metadata": {},
   "outputs": [],
   "source": [
    "%matplotlib inline\n",
    "\n",
    "import math as m\n",
    "import numpy as np\n",
    "\n",
    "import matplotlib\n",
    "import matplotlib.pyplot as plt\n",
    "\n",
    "yellow='#ffb200'\n",
    "red='#DD5544'\n",
    "blue='#0284C0'"
   ]
  },
  {
   "cell_type": "code",
   "execution_count": 2,
   "metadata": {},
   "outputs": [],
   "source": [
    "matplotlib.rc('font', family='serif') \n",
    "matplotlib.rc('font', serif='Palatino Linotype') \n",
    "matplotlib.rc('text', usetex='false') \n",
    "matplotlib.rcParams.update({'font.size': 20})"
   ]
  },
  {
   "cell_type": "code",
   "execution_count": 77,
   "metadata": {},
   "outputs": [],
   "source": [
    "def sphere(R, h, coordinates):\n",
    "    S = np.array([R / 2, R/ 2, h + R / 2])\n",
    "    return np.linalg.norm(coordinates - S) <= R/2"
   ]
  },
  {
   "cell_type": "code",
   "execution_count": 154,
   "metadata": {},
   "outputs": [],
   "source": [
    "R = 80e-3\n",
    "h = 30e-3\n",
    "a = 10\n",
    "coor1 = np.array([500, 540, -70])\n",
    "# sphere(R, h, a, coor1)"
   ]
  },
  {
   "cell_type": "code",
   "execution_count": 167,
   "metadata": {},
   "outputs": [],
   "source": [
    "nxy = 3\n",
    "nz = 3"
   ]
  },
  {
   "cell_type": "code",
   "execution_count": 168,
   "metadata": {},
   "outputs": [],
   "source": [
    "geometry = np.empty((nxy + 2, nxy + 2, nz), dtype=bool)"
   ]
  },
  {
   "cell_type": "code",
   "execution_count": 169,
   "metadata": {},
   "outputs": [],
   "source": [
    "for (i, j, k), value in np.ndenumerate(geometry):\n",
    "    coor = np.array([(i - 1) / nxy*R, (j - 1) / nxy*R, k / nz*R + h]) \n",
    "#     print(coor)\n",
    "    geometry[i, j, k] = sphere(R, h, \n",
    "                               coor)"
   ]
  },
  {
   "cell_type": "code",
   "execution_count": 174,
   "metadata": {},
   "outputs": [
    {
     "data": {
      "text/plain": [
       "<matplotlib.image.AxesImage at 0x1bfeed31f48>"
      ]
     },
     "execution_count": 174,
     "metadata": {},
     "output_type": "execute_result"
    },
    {
     "data": {
      "image/png": "[encoded data removed]",
      "text/plain": [
       "<Figure size 432x288 with 1 Axes>"
      ]
     },
     "metadata": {
      "needs_background": "light"
     },
     "output_type": "display_data"
    }
   ],
   "source": [
    "plt.imshow(geometry[:, :, 0])\n",
    "# plt.imshow(geometry[:, 10, :])\n",
    "# plt.imshow(geometry[10, :, :])"
   ]
  },
  {
   "cell_type": "code",
   "execution_count": 175,
   "metadata": {
    "scrolled": true
   },
   "outputs": [
    {
     "name": "stdout",
     "output_type": "stream",
     "text": [
      "number_of_layers = 5;\n",
      "\n",
      "a = 10;\n",
      "w = 1.33;\n",
      "\n",
      "l = 1;\n",
      "thickness(1) = 0.05;\n",
      "coordinate_x_1 = [0, a];\n",
      "coordinate_y_1 = [0, a];\n",
      "r_index_1 = {gold};\n",
      "\n",
      "\n",
      "\n",
      "l = 2;\n",
      "thickness(2) = 0.03;\n",
      "coordinate_x_2 = [0, a];\n",
      "coordinate_y_2 = [0, a];\n",
      "r_index_2 = {w};\n",
      "\n",
      "\n",
      "\n",
      "l = 3;\n",
      "thickness(3) = 0.02666666666666667;\n",
      "coordinate_x_3 = [0, 4.96, 4.9639999999999995, 4.968, 4.9719999999999995, 10];\n",
      "coordinate_y_3 = [0, 4.96, 4.9639999999999995, 4.968, 4.9719999999999995, 10];\n",
      "r_index_3 = [w, w, w, w, w;\n",
      "w, w, w, w, w;\n",
      "w, w, w, w, w;\n",
      "w, w, w, w, w;\n",
      "w, w, w, w, w];\n",
      "\n",
      "\n",
      "\n",
      "l = 4;\n",
      "thickness(4) = 0.02666666666666667;\n",
      "coordinate_x_4 = [0, 4.96, 4.9639999999999995, 4.968, 4.9719999999999995, 10];\n",
      "coordinate_y_4 = [0, 4.96, 4.9639999999999995, 4.968, 4.9719999999999995, 10];\n",
      "r_index_4 = [w, w, w, w, w;\n",
      "w, w, w, w, w;\n",
      "w, w, gold, gold, w;\n",
      "w, w, gold, gold, w;\n",
      "w, w, w, w, w];\n",
      "\n",
      "\n",
      "\n",
      "l = 5;\n",
      "thickness(5) = 0.02666666666666667;\n",
      "coordinate_x_5 = [0, 4.96, 4.9639999999999995, 4.968, 4.9719999999999995, 10];\n",
      "coordinate_y_5 = [0, 4.96, 4.9639999999999995, 4.968, 4.9719999999999995, 10];\n",
      "r_index_5 = [w, w, w, w, w;\n",
      "w, w, w, w, w;\n",
      "w, w, gold, gold, w;\n",
      "w, w, gold, gold, w;\n",
      "w, w, w, w, w];\n",
      "\n",
      "\n",
      "\n"
     ]
    }
   ],
   "source": [
    "print('number_of_layers = {};\\n'.format(nz + 2))\n",
    "print('a = {};'.format(a))\n",
    "print('w = 1.33;\\n')\n",
    "\n",
    "\n",
    "print('l = 1;')\n",
    "print('thickness(1) = 0.05;')\n",
    "print('coordinate_x_1 = [0, a];')\n",
    "print('coordinate_y_1 = [0, a];')\n",
    "\n",
    "print('r_index_1 = {gold};')\n",
    "print('\\n\\n')\n",
    "\n",
    "print('l = 2;')\n",
    "print('thickness(2) = {};'.format(h))\n",
    "print('coordinate_x_2 = [0, a];')\n",
    "print('coordinate_y_2 = [0, a];')\n",
    "\n",
    "print('r_index_2 = {w};')\n",
    "print('\\n\\n')\n",
    "\n",
    "for i in range(nz):\n",
    "#     coordinate_sphere = [a/n*j for j in range(nz + 1)]\n",
    "    coordinate_sphere = [(a-R)/2 + R/n*j for j in range(nz + 1)]\n",
    "    coordinate_x = [0] + coordinate_sphere + [a]\n",
    "    \n",
    "    r_index = str(geometry[:, :, i])   \n",
    "    r_index = r_index.replace(' ', ', ')  \n",
    "    r_index = r_index.replace(']\\n, [', ';\\n')\n",
    "    r_index = r_index.replace('False', 'w')\n",
    "    r_index = r_index.replace('True', 'gold')\n",
    "    r_index = r_index.replace('[[', '[')\n",
    "    r_index = r_index.replace(']]', ']')\n",
    "    r_index = r_index.replace(' , ', ' ')\n",
    "    \n",
    "\n",
    "    print('l = {};'.format(i + 3))\n",
    "    print('thickness({}) = {};'.format(i + 3, R/nz))\n",
    "    print('coordinate_x_{} = {};'.format(i + 3, coordinate_x))\n",
    "    print('coordinate_y_{} = {};'.format(i + 3, coordinate_x))\n",
    "    print('r_index_{} = {};'.format(i + 3, r_index))\n",
    "    print('\\n\\n')\n",
    "    \n",
    "#     break\n",
    "    "
   ]
  },
  {
   "cell_type": "code",
   "execution_count": null,
   "metadata": {},
   "outputs": [],
   "source": []
  }
 ],
 "metadata": {
  "kernelspec": {
   "display_name": "Python 3",
   "language": "python",
   "name": "python3"
  },
  "language_info": {
   "codemirror_mode": {
    "name": "ipython",
    "version": 3
   },
   "file_extension": ".py",
   "mimetype": "text/x-python",
   "name": "python",
   "nbconvert_exporter": "python",
   "pygments_lexer": "ipython3",
   "version": "3.7.9"
  }
 },
 "nbformat": 4,
 "nbformat_minor": 2
}
