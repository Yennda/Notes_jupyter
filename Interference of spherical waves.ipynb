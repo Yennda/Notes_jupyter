{
 "cells": [
  {
   "cell_type": "code",
   "execution_count": 2,
   "metadata": {},
   "outputs": [],
   "source": [
    "import math as m\n",
    "import numpy as np"
   ]
  },
  {
   "cell_type": "code",
   "execution_count": 3,
   "metadata": {},
   "outputs": [],
   "source": [
    "R = 100\n",
    "theta = 30/180*m.pi\n",
    "lm = 325e-9\n",
    "k = 2*m.pi/lm\n",
    "eps = 5"
   ]
  },
  {
   "cell_type": "code",
   "execution_count": 4,
   "metadata": {},
   "outputs": [],
   "source": [
    "def Lambda(k, theta, eps, R, xx):\n",
    "    a = m.sin(theta)*xx\n",
    "    b = R-m.cos(theta)*xx\n",
    "    gamma = m.atan(a/b)\n",
    "    beta = gamma + theta\n",
    "\n",
    "    aa = m.cos(theta - 2 *eps)**xx\n",
    "    bb = R + m.sin(theta - 2 * eps)**xx\n",
    "    gammaa = m.atan(aa/bb)\n",
    "    betaa = m.pi-(3*theta - 2 * eps) - gammaa\n",
    "\n",
    "\n",
    "    delta = m.pi-(beta+betaa)\n",
    "    K = 2*k*m.sin(delta/2)\n",
    "    Lm = 2*m.pi/K\n",
    "    \n",
    "#     print(beta)\n",
    "#     print(betaa)\n",
    "#     print(delta)  \n",
    "#     print(Lm)\n",
    "    \n",
    "    return Lm"
   ]
  },
  {
   "cell_type": "code",
   "execution_count": 22,
   "metadata": {},
   "outputs": [
    {
     "name": "stdout",
     "output_type": "stream",
     "text": [
      "0:\t405.7 nm\n",
      "1:\t405.8 nm\n",
      "2:\t405.9 nm\n",
      "3:\t406.0 nm\n",
      "4:\t406.1 nm\n",
      "5:\t406.2 nm\n",
      "6:\t406.3 nm\n",
      "7:\t406.4 nm\n",
      "8:\t406.4 nm\n",
      "9:\t406.5 nm\n",
      "10:\t406.6 nm\n",
      "11:\t406.7 nm\n",
      "12:\t406.8 nm\n",
      "13:\t406.9 nm\n",
      "14:\t407.0 nm\n",
      "15:\t407.1 nm\n",
      "16:\t407.1 nm\n",
      "17:\t407.2 nm\n",
      "18:\t407.3 nm\n",
      "19:\t407.4 nm\n",
      "20:\t407.5 nm\n",
      "21:\t407.6 nm\n",
      "22:\t407.7 nm\n",
      "23:\t407.7 nm\n",
      "24:\t407.8 nm\n",
      "25:\t407.9 nm\n",
      "26:\t408.0 nm\n",
      "27:\t408.1 nm\n",
      "28:\t408.2 nm\n",
      "29:\t408.2 nm\n",
      "30:\t408.3 nm\n",
      "31:\t408.4 nm\n",
      "32:\t408.5 nm\n",
      "33:\t408.6 nm\n",
      "34:\t408.7 nm\n",
      "35:\t408.7 nm\n",
      "36:\t408.8 nm\n",
      "37:\t408.9 nm\n",
      "38:\t409.0 nm\n",
      "39:\t409.1 nm\n"
     ]
    }
   ],
   "source": [
    "for xx in np.arange(40):\n",
    "    print('{}:\\t{:.1f} nm'.format(xx, Lambda(k, 20/180*m.pi, -3.6/180*m.pi, 2000, xx)*1e9))"
   ]
  },
  {
   "cell_type": "code",
   "execution_count": 142,
   "metadata": {},
   "outputs": [
    {
     "data": {
      "text/plain": [
       "4.0"
      ]
     },
     "execution_count": 142,
     "metadata": {},
     "output_type": "execute_result"
    }
   ],
   "source": [
    "(1/0.5)**2"
   ]
  },
  {
   "cell_type": "code",
   "execution_count": null,
   "metadata": {},
   "outputs": [],
   "source": []
  }
 ],
 "metadata": {
  "kernelspec": {
   "display_name": "Python 3",
   "language": "python",
   "name": "python3"
  },
  "language_info": {
   "codemirror_mode": {
    "name": "ipython",
    "version": 3
   },
   "file_extension": ".py",
   "mimetype": "text/x-python",
   "name": "python",
   "nbconvert_exporter": "python",
   "pygments_lexer": "ipython3",
   "version": "3.8.5"
  }
 },
 "nbformat": 4,
 "nbformat_minor": 4
}
