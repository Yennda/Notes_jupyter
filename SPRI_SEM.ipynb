{
 "cells": [
  {
   "cell_type": "code",
   "execution_count": 1,
   "metadata": {},
   "outputs": [],
   "source": [
    "import math as m\n",
    "import numpy as np"
   ]
  },
  {
   "cell_type": "code",
   "execution_count": 2,
   "metadata": {},
   "outputs": [
    {
     "name": "stdout",
     "output_type": "stream",
     "text": [
      "0.0008580099999999999\n",
      "2.81241324\n"
     ]
    }
   ],
   "source": [
    "area = 35.9*23.9/1e6\n",
    "area_small = 21 * 14/1e6\n",
    "\n",
    "area_spri = 1200*273*2.93**2/1e6\n",
    "print(area)\n",
    "print(area_spri)"
   ]
  },
  {
   "cell_type": "raw",
   "metadata": {},
   "source": [
    "channels = []\n",
    "ch01 = [\n",
    "    14, 6, 19\n",
    "]\n",
    "channels.append(ch01)\n",
    "\n",
    "ch02 = [\n",
    "    21, 26, 13, 13\n",
    "]\n",
    "channels.append(ch02)\n",
    "\n",
    "ch03 = [\n",
    "    93, 83\n",
    "]\n",
    "channels.append(ch03)\n",
    "\n",
    "ch04 = [\n",
    "    43, 19\n",
    "]\n",
    "channels.append(ch04)"
   ]
  },
  {
   "cell_type": "code",
   "execution_count": 3,
   "metadata": {},
   "outputs": [],
   "source": [
    "channels = []\n",
    "ch01 = [\n",
    "    12, 8, 9, 7, 5\n",
    "]\n",
    "ch01 = [i/28.2/18.8*1e6 for i in ch01]\n",
    "\n",
    "channels.append(ch01)\n",
    "\n",
    "ch02 = [\n",
    "    4/14.9/9.9, \n",
    "    3/16.4/11, \n",
    "    6/17.2/11.5, \n",
    "    5/17.2/11.5\n",
    "]\n",
    "ch02 = [i*1e6 for i in ch02]\n",
    "channels.append(ch02)\n",
    "\n",
    "ch03 = [\n",
    "    20/21/14, \n",
    "    21/20/13.3, \n",
    "    25/20/13.3\n",
    "]\n",
    "ch03 = [i*1e6 for i in ch03]\n",
    "channels.append(ch03)\n",
    "\n",
    "ch04 = [\n",
    "    16, 11, 7, 8, 8\n",
    "]\n",
    "ch04 = [i/21/14*1e6 for i in ch04]\n",
    "channels.append(ch04)"
   ]
  },
  {
   "cell_type": "code",
   "execution_count": 4,
   "metadata": {},
   "outputs": [],
   "source": [
    "channels_spri = []\n",
    "\n",
    "ch01 = [\n",
    "    10077\n",
    "]\n",
    "channels_spri.append(ch01)\n",
    "\n",
    "ch02 = [\n",
    "    28398/area_spri\n",
    "]\n",
    "channels_spri.append(ch02)\n",
    "\n",
    "ch03 = [\n",
    "    34292\n",
    "]\n",
    "channels_spri.append(ch03)\n",
    "\n",
    "ch04 = [\n",
    "    15168\n",
    "]\n",
    "channels_spri.append(ch04)"
   ]
  },
  {
   "cell_type": "code",
   "execution_count": 9,
   "metadata": {},
   "outputs": [
    {
     "name": "stdout",
     "output_type": "stream",
     "text": [
      "ch. 1\n",
      "density_sem: 15467.0 +- 4366.9\n",
      "density_spri: 10077\n",
      "\t65 %; 51 -- 91 %\n",
      "ch. 2\n",
      "density_sem: 24839.6 +- 5073.6\n",
      "density_spri: 10097\n",
      "\t41 %; 34 -- 51 %\n",
      "ch. 3\n",
      "density_sem: 80319.8 +- 10641.6\n",
      "density_spri: 34292\n",
      "\t43 %; 38 -- 49 %\n",
      "ch. 4\n",
      "density_sem: 34013.6 +- 11178.0\n",
      "density_spri: 15168\n",
      "\t45 %; 34 -- 66 %\n"
     ]
    }
   ],
   "source": [
    "for i, (ch, chi) in enumerate(zip(channels, channels_spri)):\n",
    "    print('ch. {}'.format(i+1))\n",
    "    print('density_sem: {:.1f} +- {:.1f}'.format(np.average(ch), np.std(ch)))\n",
    "\n",
    "#     print('density: {:.0f}'.format(np.average(ch)))  \n",
    "    print('density_spri: {:.0f}'.format(np.average(chi)))      \n",
    "    \n",
    "    print('\\t{:.0f} %; {:.0f} -- {:.0f} %'.format(\n",
    "        np.average(chi) / np.average(ch) * 100,\n",
    "        np.average(chi) / (np.average(ch) + np.std(ch)) * 100,\n",
    "        np.average(chi) / (np.average(ch) - np.std(ch)) * 100\n",
    "    ))"
   ]
  },
  {
   "cell_type": "code",
   "execution_count": null,
   "metadata": {},
   "outputs": [],
   "source": []
  }
 ],
 "metadata": {
  "kernelspec": {
   "display_name": "Python 3",
   "language": "python",
   "name": "python3"
  },
  "language_info": {
   "codemirror_mode": {
    "name": "ipython",
    "version": 3
   },
   "file_extension": ".py",
   "mimetype": "text/x-python",
   "name": "python",
   "nbconvert_exporter": "python",
   "pygments_lexer": "ipython3",
   "version": "3.8.5"
  }
 },
 "nbformat": 4,
 "nbformat_minor": 4
}
