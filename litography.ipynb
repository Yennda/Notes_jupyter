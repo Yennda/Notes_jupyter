{
 "cells": [
  {
   "cell_type": "code",
   "execution_count": 1,
   "metadata": {},
   "outputs": [],
   "source": [
    "import math as m"
   ]
  },
  {
   "cell_type": "code",
   "execution_count": 2,
   "metadata": {},
   "outputs": [],
   "source": [
    "def deg2rad(deg):\n",
    "    return deg/180*m.pi\n",
    "def rad2deg(rad):\n",
    "    return rad/m.pi*180\n",
    "def delta(angle, wl=633):\n",
    "    dL=wl/2/m.sin(deg2rad(angle))-wl/2/m.sin(deg2rad(angle+0.5))\n",
    "    print('dL={:.2f} nm pro dTheta=30\\''.format(dL))"
   ]
  },
  {
   "cell_type": "code",
   "execution_count": 3,
   "metadata": {},
   "outputs": [
    {
     "data": {
      "text/plain": [
       "'25.1614286,0,23.5198524,29.8214388,750,17.9421675,22.5746151,17.6993619,22.2630087,900,14.4684142, 18.1404175,14.3780657,18.0257124,'"
      ]
     },
     "execution_count": 3,
     "metadata": {},
     "output_type": "execute_result"
    }
   ],
   "source": [
    "angles='''25.1614286|0|23.5198524|29.8214388|\n",
    "|750|17.9421675|22.5746151|17.6993619|22.2630087|\n",
    "|900|14.4684142| 18.1404175|14.3780657|18.0257124|'''.replace('|', ',' )\n",
    "angles.replace(',\\n', '')"
   ]
  },
  {
   "cell_type": "code",
   "execution_count": 4,
   "metadata": {},
   "outputs": [],
   "source": [
    "A=[25.1614286,0,23.5198524,29.8214388,750,17.9421675,22.5746151,17.6993619,22.2630087,900,14.4684142, 18.1404175,14.3780657,18.025712]"
   ]
  },
  {
   "cell_type": "code",
   "execution_count": 5,
   "metadata": {},
   "outputs": [],
   "source": [
    "LAM=453"
   ]
  },
  {
   "cell_type": "code",
   "execution_count": 6,
   "metadata": {
    "scrolled": false
   },
   "outputs": [
    {
     "name": "stdout",
     "output_type": "stream",
     "text": [
      "Theta [-1] for HeNe @633nm\n",
      "44.320835272305295\n",
      "44° 19.25'\n"
     ]
    }
   ],
   "source": [
    "print('Theta [-1] for HeNe @633nm')\n",
    "A=[rad2deg(m.asin(i)) for i in [633/LAM/2]]\n",
    "for a in A:\n",
    "    print(a)\n",
    "    print('{}° {:.2f}\\''.format(int(a//1),(a-a//1)*100/100*60))"
   ]
  },
  {
   "cell_type": "code",
   "execution_count": 7,
   "metadata": {},
   "outputs": [
    {
     "name": "stdout",
     "output_type": "stream",
     "text": [
      "Theta [-1] for HeCD @325nm\n",
      "21.02158595597615\n",
      "21° 1.30'\n",
      "42.0431719119523\n",
      "42° 2.59'\n"
     ]
    }
   ],
   "source": [
    "print('Theta [-1] for HeCD @325nm')\n",
    "A=[rad2deg(m.asin(i)) for i in [325/LAM/2]]\n",
    "for a in A:\n",
    "    print(a)\n",
    "    print('{}° {:.2f}\\''.format(int(a//1),(a-a//1)*100/100*60))\n",
    "    \n",
    "for a in A:\n",
    "    a*=2\n",
    "    print(a)\n",
    "    print('{}° {:.2f}\\''.format(int(a//1),(a-a//1)*100/100*60))"
   ]
  },
  {
   "cell_type": "code",
   "execution_count": 8,
   "metadata": {},
   "outputs": [
    {
     "data": {
      "text/plain": [
       "527.2774009621895"
      ]
     },
     "execution_count": 8,
     "metadata": {},
     "output_type": "execute_result"
    }
   ],
   "source": [
    "325/m.sin(deg2rad(57/60+17))/2"
   ]
  },
  {
   "cell_type": "code",
   "execution_count": 9,
   "metadata": {},
   "outputs": [
    {
     "data": {
      "text/plain": [
       "525.8610463437159"
      ]
     },
     "execution_count": 9,
     "metadata": {},
     "output_type": "execute_result"
    }
   ],
   "source": [
    "325/m.sin(deg2rad(18))/2"
   ]
  },
  {
   "cell_type": "code",
   "execution_count": 19,
   "metadata": {},
   "outputs": [
    {
     "data": {
      "text/plain": [
       "405.4509777246894"
      ]
     },
     "execution_count": 19,
     "metadata": {},
     "output_type": "execute_result"
    }
   ],
   "source": [
    "633/m.sin(deg2rad(129+41/60))/2"
   ]
  },
  {
   "cell_type": "code",
   "execution_count": null,
   "metadata": {},
   "outputs": [],
   "source": []
  }
 ],
 "metadata": {
  "kernelspec": {
   "display_name": "Python 3",
   "language": "python",
   "name": "python3"
  },
  "language_info": {
   "codemirror_mode": {
    "name": "ipython",
    "version": 3
   },
   "file_extension": ".py",
   "mimetype": "text/x-python",
   "name": "python",
   "nbconvert_exporter": "python",
   "pygments_lexer": "ipython3",
   "version": "3.6.5"
  }
 },
 "nbformat": 4,
 "nbformat_minor": 2
}
