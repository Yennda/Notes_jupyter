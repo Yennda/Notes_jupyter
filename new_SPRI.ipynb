{
 "cells": [
  {
   "cell_type": "code",
   "execution_count": 1,
   "metadata": {},
   "outputs": [],
   "source": [
    "import math as m\n",
    "import numpy as np"
   ]
  },
  {
   "cell_type": "code",
   "execution_count": 2,
   "metadata": {},
   "outputs": [],
   "source": [
    "x1 = 3\n",
    "d1 = 25.4\n",
    "f1 = 25.4\n",
    "s = 30\n",
    "r = f1 + s"
   ]
  },
  {
   "cell_type": "code",
   "execution_count": 3,
   "metadata": {},
   "outputs": [],
   "source": [
    "tg_theta = x1/f1\n",
    "x2 = tg_theta * r"
   ]
  },
  {
   "cell_type": "code",
   "execution_count": 4,
   "metadata": {},
   "outputs": [
    {
     "name": "stdout",
     "output_type": "stream",
     "text": [
      "poloha hl. svazku: 6.54 mm\n",
      "poloha nejvzd. svazku: 19.24 mm\n"
     ]
    }
   ],
   "source": [
    "print('poloha hl. svazku: {:.2f} mm'.format(x2))\n",
    "print('poloha nejvzd. svazku: {:.2f} mm'.format(x2 + d1/2))"
   ]
  },
  {
   "cell_type": "code",
   "execution_count": 5,
   "metadata": {},
   "outputs": [],
   "source": []
  },
  {
   "cell_type": "code",
   "execution_count": 60,
   "metadata": {},
   "outputs": [],
   "source": [
    "phi1 = 1/0.06\n",
    "phi2 = 1/0.06\n",
    "d = 5/1000"
   ]
  },
  {
   "cell_type": "code",
   "execution_count": 61,
   "metadata": {},
   "outputs": [],
   "source": [
    "phi = phi1 + phi2 - phi1 * phi2 *d/2"
   ]
  },
  {
   "cell_type": "code",
   "execution_count": 62,
   "metadata": {},
   "outputs": [
    {
     "name": "stdout",
     "output_type": "stream",
     "text": [
      "30.63829787234042\n"
     ]
    }
   ],
   "source": [
    "print(1/phi*1000)"
   ]
  },
  {
   "cell_type": "code",
   "execution_count": 66,
   "metadata": {},
   "outputs": [
    {
     "name": "stdout",
     "output_type": "stream",
     "text": [
      "zvetseni 3.0\n",
      "NA 0.45432608279601244\n"
     ]
    }
   ],
   "source": [
    "# ft = 50\n",
    "# fo = 35\n",
    "ft = 75\n",
    "fo = 25\n",
    "print('zvetseni {}'.format(ft/fo))\n",
    "print('NA {}'.format(m.sin(m.atan(25.5/2/fo))))\n"
   ]
  },
  {
   "cell_type": "code",
   "execution_count": null,
   "metadata": {},
   "outputs": [],
   "source": []
  }
 ],
 "metadata": {
  "kernelspec": {
   "display_name": "Python 3",
   "language": "python",
   "name": "python3"
  },
  "language_info": {
   "codemirror_mode": {
    "name": "ipython",
    "version": 3
   },
   "file_extension": ".py",
   "mimetype": "text/x-python",
   "name": "python",
   "nbconvert_exporter": "python",
   "pygments_lexer": "ipython3",
   "version": "3.8.5"
  }
 },
 "nbformat": 4,
 "nbformat_minor": 4
}
